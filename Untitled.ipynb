{
 "cells": [
  {
   "cell_type": "markdown",
   "id": "d50f8ec7-8a20-49e5-8dcb-9747cb777319",
   "metadata": {},
   "source": [
    "# Importing libraries\n"
   ]
  },
  {
   "cell_type": "code",
   "execution_count": 28,
   "id": "a448b01c-4575-46a9-8d1f-153e2435cbba",
   "metadata": {},
   "outputs": [],
   "source": [
    "import sklearn \n",
    "import joblib\n",
    "import pandas as pd\n",
    "from sklearn.impute import SimpleImputer\n",
    "from sklearn.preprocessing import StandardScaler,OneHotEncoder\n",
    "from sklearn.pipeline import Pipeline\n",
    "from sklearn.compose import ColumnTransformer\n",
    "import matplotlib.pyplot as plt"
   ]
  },
  {
   "cell_type": "markdown",
   "id": "bad74bff-13f7-43e1-b2b2-833aaec9ab2b",
   "metadata": {},
   "source": [
    "# Display settings \n"
   ]
  },
  {
   "cell_type": "code",
   "execution_count": 5,
   "id": "7c50c113-7c50-4039-92c1-6e0d1f4bfbe8",
   "metadata": {},
   "outputs": [],
   "source": [
    "pd.set_option(\"display.max_columns\",None) # no column will be truncated it will show all"
   ]
  },
  {
   "cell_type": "code",
   "execution_count": 8,
   "id": "f45ef1c8-a647-4d16-92d7-ea3d55321a48",
   "metadata": {},
   "outputs": [],
   "source": [
    "sklearn.set_config(transform_output=\"pandas\") # as sklearn generally outputs numpy array so we are making this setting so that we get answer as pandas dataframe"
   ]
  },
  {
   "cell_type": "markdown",
   "id": "002bb601-8985-420b-89bf-0ebe40484f65",
   "metadata": {},
   "source": [
    "# Get the data"
   ]
  },
  {
   "cell_type": "code",
   "execution_count": 13,
   "id": "205ac36a-023c-4b6b-8895-96422e0328bc",
   "metadata": {},
   "outputs": [],
   "source": [
    "train_df =pd.read_csv(\"data/train.csv\")\n",
    "test_df =pd.read_csv(\"data/test.csv\")\n",
    "val_df =pd.read_csv(\"data/val.csv\")"
   ]
  },
  {
   "cell_type": "code",
   "execution_count": 14,
   "id": "c6b0a1fe-e485-400d-b535-c93659d3e3db",
   "metadata": {},
   "outputs": [
    {
     "data": {
      "text/html": [
       "<div>\n",
       "<style scoped>\n",
       "    .dataframe tbody tr th:only-of-type {\n",
       "        vertical-align: middle;\n",
       "    }\n",
       "\n",
       "    .dataframe tbody tr th {\n",
       "        vertical-align: top;\n",
       "    }\n",
       "\n",
       "    .dataframe thead th {\n",
       "        text-align: right;\n",
       "    }\n",
       "</style>\n",
       "<table border=\"1\" class=\"dataframe\">\n",
       "  <thead>\n",
       "    <tr style=\"text-align: right;\">\n",
       "      <th></th>\n",
       "      <th>airline</th>\n",
       "      <th>date_of_journey</th>\n",
       "      <th>source</th>\n",
       "      <th>destination</th>\n",
       "      <th>dep_time</th>\n",
       "      <th>arrival_time</th>\n",
       "      <th>duration</th>\n",
       "      <th>total_stops</th>\n",
       "      <th>additional_info</th>\n",
       "      <th>price</th>\n",
       "    </tr>\n",
       "  </thead>\n",
       "  <tbody>\n",
       "    <tr>\n",
       "      <th>154</th>\n",
       "      <td>Spicejet</td>\n",
       "      <td>2019-06-06</td>\n",
       "      <td>Banglore</td>\n",
       "      <td>Delhi</td>\n",
       "      <td>05:55:00</td>\n",
       "      <td>08:35:00</td>\n",
       "      <td>160</td>\n",
       "      <td>0.0</td>\n",
       "      <td>No Info</td>\n",
       "      <td>3625</td>\n",
       "    </tr>\n",
       "    <tr>\n",
       "      <th>185</th>\n",
       "      <td>Jet Airways</td>\n",
       "      <td>2019-06-09</td>\n",
       "      <td>Banglore</td>\n",
       "      <td>Delhi</td>\n",
       "      <td>07:10:00</td>\n",
       "      <td>10:10:00</td>\n",
       "      <td>180</td>\n",
       "      <td>0.0</td>\n",
       "      <td>In-flight meal not included</td>\n",
       "      <td>7229</td>\n",
       "    </tr>\n",
       "    <tr>\n",
       "      <th>181</th>\n",
       "      <td>Vistara</td>\n",
       "      <td>2019-05-06</td>\n",
       "      <td>Kolkata</td>\n",
       "      <td>Banglore</td>\n",
       "      <td>17:00:00</td>\n",
       "      <td>20:20:00</td>\n",
       "      <td>1640</td>\n",
       "      <td>1.0</td>\n",
       "      <td>No Info</td>\n",
       "      <td>8610</td>\n",
       "    </tr>\n",
       "  </tbody>\n",
       "</table>\n",
       "</div>"
      ],
      "text/plain": [
       "         airline date_of_journey    source destination  dep_time arrival_time  \\\n",
       "154     Spicejet      2019-06-06  Banglore       Delhi  05:55:00     08:35:00   \n",
       "185  Jet Airways      2019-06-09  Banglore       Delhi  07:10:00     10:10:00   \n",
       "181      Vistara      2019-05-06   Kolkata    Banglore  17:00:00     20:20:00   \n",
       "\n",
       "     duration  total_stops              additional_info  price  \n",
       "154       160          0.0                      No Info   3625  \n",
       "185       180          0.0  In-flight meal not included   7229  \n",
       "181      1640          1.0                      No Info   8610  "
      ]
     },
     "execution_count": 14,
     "metadata": {},
     "output_type": "execute_result"
    }
   ],
   "source": [
    "train_df.sample(3)"
   ]
  },
  {
   "cell_type": "markdown",
   "id": "070933bf-ce64-48dd-9cac-32711b4c2fe6",
   "metadata": {},
   "source": [
    "### Split the data"
   ]
  },
  {
   "cell_type": "code",
   "execution_count": 15,
   "id": "32b0d98b-ee34-4969-a096-f11fa996db43",
   "metadata": {},
   "outputs": [],
   "source": [
    "def split_data(data):\n",
    "    X=data.drop(columns=\"price\")\n",
    "    Y=data.price.copy()\n",
    "    return (X,Y)"
   ]
  },
  {
   "cell_type": "code",
   "execution_count": 16,
   "id": "ac8f7ee9-03c8-48b2-ae7a-025d773ce029",
   "metadata": {},
   "outputs": [],
   "source": [
    "X_train,Y_train = split_data(train_df)"
   ]
  },
  {
   "cell_type": "code",
   "execution_count": 17,
   "id": "1dfae809-727c-48b5-9911-f3a1f00387e6",
   "metadata": {},
   "outputs": [
    {
     "data": {
      "text/html": [
       "<div>\n",
       "<style scoped>\n",
       "    .dataframe tbody tr th:only-of-type {\n",
       "        vertical-align: middle;\n",
       "    }\n",
       "\n",
       "    .dataframe tbody tr th {\n",
       "        vertical-align: top;\n",
       "    }\n",
       "\n",
       "    .dataframe thead th {\n",
       "        text-align: right;\n",
       "    }\n",
       "</style>\n",
       "<table border=\"1\" class=\"dataframe\">\n",
       "  <thead>\n",
       "    <tr style=\"text-align: right;\">\n",
       "      <th></th>\n",
       "      <th>airline</th>\n",
       "      <th>date_of_journey</th>\n",
       "      <th>source</th>\n",
       "      <th>destination</th>\n",
       "      <th>dep_time</th>\n",
       "      <th>arrival_time</th>\n",
       "      <th>duration</th>\n",
       "      <th>total_stops</th>\n",
       "      <th>additional_info</th>\n",
       "    </tr>\n",
       "  </thead>\n",
       "  <tbody>\n",
       "    <tr>\n",
       "      <th>605</th>\n",
       "      <td>Air India</td>\n",
       "      <td>2019-05-09</td>\n",
       "      <td>Delhi</td>\n",
       "      <td>Cochin</td>\n",
       "      <td>09:00:00</td>\n",
       "      <td>19:15:00</td>\n",
       "      <td>615</td>\n",
       "      <td>1.0</td>\n",
       "      <td>No Info</td>\n",
       "    </tr>\n",
       "  </tbody>\n",
       "</table>\n",
       "</div>"
      ],
      "text/plain": [
       "       airline date_of_journey source destination  dep_time arrival_time  \\\n",
       "605  Air India      2019-05-09  Delhi      Cochin  09:00:00     19:15:00   \n",
       "\n",
       "     duration  total_stops additional_info  \n",
       "605       615          1.0         No Info  "
      ]
     },
     "execution_count": 17,
     "metadata": {},
     "output_type": "execute_result"
    }
   ],
   "source": [
    "X_train.sample()"
   ]
  },
  {
   "cell_type": "code",
   "execution_count": 18,
   "id": "b394f24c-a679-4376-8b80-14db935151ad",
   "metadata": {},
   "outputs": [
    {
     "data": {
      "text/plain": [
       "30    8610\n",
       "Name: price, dtype: int64"
      ]
     },
     "execution_count": 18,
     "metadata": {},
     "output_type": "execute_result"
    }
   ],
   "source": [
    "Y_train.sample()"
   ]
  },
  {
   "cell_type": "code",
   "execution_count": 19,
   "id": "aebba454-c3af-4d44-a2b7-af4626c63ea2",
   "metadata": {},
   "outputs": [],
   "source": [
    "X_val,Y_val = split_data(val_df)"
   ]
  },
  {
   "cell_type": "code",
   "execution_count": 20,
   "id": "360255c8-dfb5-4d7e-acad-989f74446cc2",
   "metadata": {},
   "outputs": [],
   "source": [
    "X_test,Y_test = split_data(test_df)"
   ]
  },
  {
   "cell_type": "markdown",
   "id": "b1c067b9-fdd4-4be9-a836-bf0120d27cc0",
   "metadata": {},
   "source": [
    "### meta values"
   ]
  },
  {
   "cell_type": "code",
   "execution_count": 21,
   "id": "9f7c56a6-8a53-4859-8b96-36636346c091",
   "metadata": {},
   "outputs": [
    {
     "name": "stdout",
     "output_type": "stream",
     "text": [
      "<class 'pandas.core.frame.DataFrame'>\n",
      "RangeIndex: 640 entries, 0 to 639\n",
      "Data columns (total 10 columns):\n",
      " #   Column           Non-Null Count  Dtype  \n",
      "---  ------           --------------  -----  \n",
      " 0   airline          640 non-null    object \n",
      " 1   date_of_journey  640 non-null    object \n",
      " 2   source           640 non-null    object \n",
      " 3   destination      640 non-null    object \n",
      " 4   dep_time         640 non-null    object \n",
      " 5   arrival_time     640 non-null    object \n",
      " 6   duration         640 non-null    int64  \n",
      " 7   total_stops      640 non-null    float64\n",
      " 8   additional_info  640 non-null    object \n",
      " 9   price            640 non-null    int64  \n",
      "dtypes: float64(1), int64(2), object(7)\n",
      "memory usage: 50.1+ KB\n"
     ]
    }
   ],
   "source": [
    "train_df.info()"
   ]
  },
  {
   "cell_type": "code",
   "execution_count": 22,
   "id": "6a372412-d08f-4b52-8232-c6be61294f43",
   "metadata": {},
   "outputs": [
    {
     "name": "stdout",
     "output_type": "stream",
     "text": [
      "<class 'pandas.core.frame.DataFrame'>\n",
      "RangeIndex: 200 entries, 0 to 199\n",
      "Data columns (total 10 columns):\n",
      " #   Column           Non-Null Count  Dtype  \n",
      "---  ------           --------------  -----  \n",
      " 0   airline          200 non-null    object \n",
      " 1   date_of_journey  200 non-null    object \n",
      " 2   source           200 non-null    object \n",
      " 3   destination      200 non-null    object \n",
      " 4   dep_time         200 non-null    object \n",
      " 5   arrival_time     200 non-null    object \n",
      " 6   duration         200 non-null    int64  \n",
      " 7   total_stops      200 non-null    float64\n",
      " 8   additional_info  200 non-null    object \n",
      " 9   price            200 non-null    int64  \n",
      "dtypes: float64(1), int64(2), object(7)\n",
      "memory usage: 15.8+ KB\n"
     ]
    }
   ],
   "source": [
    "test_df.info()"
   ]
  },
  {
   "cell_type": "code",
   "execution_count": 23,
   "id": "d26d82f1-62da-436f-82b8-1f7d6ff19dae",
   "metadata": {},
   "outputs": [
    {
     "name": "stdout",
     "output_type": "stream",
     "text": [
      "<class 'pandas.core.frame.DataFrame'>\n",
      "RangeIndex: 160 entries, 0 to 159\n",
      "Data columns (total 10 columns):\n",
      " #   Column           Non-Null Count  Dtype  \n",
      "---  ------           --------------  -----  \n",
      " 0   airline          160 non-null    object \n",
      " 1   date_of_journey  160 non-null    object \n",
      " 2   source           160 non-null    object \n",
      " 3   destination      160 non-null    object \n",
      " 4   dep_time         160 non-null    object \n",
      " 5   arrival_time     160 non-null    object \n",
      " 6   duration         160 non-null    int64  \n",
      " 7   total_stops      160 non-null    float64\n",
      " 8   additional_info  160 non-null    object \n",
      " 9   price            160 non-null    int64  \n",
      "dtypes: float64(1), int64(2), object(7)\n",
      "memory usage: 12.6+ KB\n"
     ]
    }
   ],
   "source": [
    "val_df.info()"
   ]
  },
  {
   "cell_type": "markdown",
   "id": "6c9b903e-f200-4bae-9e4a-074c45edbf6a",
   "metadata": {},
   "source": [
    "# Data Preprocessing "
   ]
  },
  {
   "cell_type": "code",
   "execution_count": 24,
   "id": "22d4be3b-53f3-4394-aaae-212c06f954de",
   "metadata": {},
   "outputs": [],
   "source": [
    "dt_cols = [\"date_of_journey\",\"dep_time\",\"arrival_time\"]\n",
    "num_cols=[\"duration\",\"total_stops\"]\n",
    "cat_cols =[col for col in X_train.columns if (col not in dt_cols) and (col not in num_cols)]"
   ]
  },
  {
   "cell_type": "code",
   "execution_count": 25,
   "id": "5f955d38-ea2d-4787-901e-67eeb91546d0",
   "metadata": {},
   "outputs": [
    {
     "data": {
      "text/plain": [
       "['airline', 'source', 'destination', 'additional_info']"
      ]
     },
     "execution_count": 25,
     "metadata": {},
     "output_type": "execute_result"
    }
   ],
   "source": [
    "cat_cols"
   ]
  },
  {
   "cell_type": "code",
   "execution_count": null,
   "id": "ea197995-7530-4970-beb7-ce5fbbe5b839",
   "metadata": {},
   "outputs": [],
   "source": [
    "f"
   ]
  }
 ],
 "metadata": {
  "kernelspec": {
   "display_name": "env",
   "language": "python",
   "name": "python3"
  },
  "language_info": {
   "codemirror_mode": {
    "name": "ipython",
    "version": 3
   },
   "file_extension": ".py",
   "mimetype": "text/x-python",
   "name": "python",
   "nbconvert_exporter": "python",
   "pygments_lexer": "ipython3",
   "version": "3.11.11"
  }
 },
 "nbformat": 4,
 "nbformat_minor": 5
}
